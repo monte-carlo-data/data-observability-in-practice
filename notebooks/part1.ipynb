{
 "cells": [
  {
   "cell_type": "code",
   "execution_count": null,
   "metadata": {
    "scrolled": true
   },
   "outputs": [],
   "source": [
    "import pandas as pd\n",
    "import plotly.express as px\n",
    "import re\n",
    "from datetime import datetime, date, timedelta"
   ]
  },
  {
   "cell_type": "code",
   "execution_count": null,
   "metadata": {},
   "outputs": [],
   "source": [
    "import sqlite3\n",
    "\n",
    "conn = sqlite3.connect(\"../EXOPLANETS.db\")\n",
    "c = conn.cursor()"
   ]
  },
  {
   "cell_type": "code",
   "execution_count": null,
   "metadata": {},
   "outputs": [],
   "source": [
    "def show_query_plot(filename, x, y):\n",
    "    with open(filename, 'r') as sql_file:\n",
    "        sql = sql_file.read()\n",
    "\n",
    "    # '.headers on' works for command line execution but causes errors in the python environment\n",
    "    data = pd.read_sql_query(re.sub('.headers on', '', sql), conn)\n",
    "    data = data.rename(columns={clmn: clmn.lower() for clmn in data.columns})\n",
    "    return px.bar(data, x=x, y=y)"
   ]
  },
  {
   "cell_type": "code",
   "execution_count": null,
   "metadata": {},
   "outputs": [],
   "source": [
    "def show_plot_with_detections(detections_file, data_file, x, y):\n",
    "    fig = show_query_plot(data_file, x, y)\n",
    "\n",
    "    with open(detections_file, 'r') as sql_file:\n",
    "        sql = sql_file.read()\n",
    "    detections = pd.read_sql_query(re.sub('.headers on', '', sql), conn)\n",
    "    detections = detections.rename(columns={clmn: clmn.lower() for clmn in detections.columns})\n",
    "    for _, row in detections.iterrows():\n",
    "        fig.add_vline(x=row['date_added'], line_color='red')\n",
    "    \n",
    "    return fig"
   ]
  },
  {
   "cell_type": "code",
   "execution_count": null,
   "metadata": {},
   "outputs": [],
   "source": [
    "freshness_query = \"\"\"WITH UPDATES AS(\n",
    "  SELECT\n",
    "    DATE_ADDED,\n",
    "    COUNT(*) AS ROWS_ADDED\n",
    "  FROM\n",
    "    EXOPLANETS\n",
    "  GROUP BY\n",
    "    DATE_ADDED\n",
    "),\n",
    "\n",
    "NUM_DAYS_UPDATES AS (\n",
    "  SELECT\n",
    "    DATE_ADDED,\n",
    "    JULIANDAY(DATE_ADDED) - JULIANDAY(LAG(DATE_ADDED)\n",
    "      OVER(\n",
    "        ORDER BY DATE_ADDED\n",
    "      )\n",
    "    ) AS DAYS_SINCE_LAST_UPDATE\n",
    "  FROM\n",
    "    UPDATES\n",
    ")\n",
    "\n",
    "SELECT\n",
    "  *\n",
    "FROM\n",
    "  NUM_DAYS_UPDATES\n",
    "WHERE\n",
    "  DAYS_SINCE_LAST_UPDATE > {threshold_days};\"\"\""
   ]
  },
  {
   "cell_type": "code",
   "execution_count": null,
   "metadata": {},
   "outputs": [],
   "source": [
    "def show_freshness_detections(threshold):\n",
    "    fig = show_query_plot('../queries/freshness/rows-added.sql', 'date_added', 'rows_added')\n",
    "\n",
    "    detections = pd.read_sql_query(freshness_query.format(threshold_days=threshold), conn)\n",
    "    detections = detections.rename(columns={clmn: clmn.lower() for clmn in detections.columns})\n",
    "    for _, row in detections.iterrows():\n",
    "        fig.add_vline(x=row['date_added'], line_color='red')\n",
    "    \n",
    "    return fig"
   ]
  },
  {
   "cell_type": "code",
   "execution_count": null,
   "metadata": {},
   "outputs": [],
   "source": [
    "show_freshness_detections(1).show()"
   ]
  },
  {
   "cell_type": "code",
   "execution_count": null,
   "metadata": {},
   "outputs": [],
   "source": [
    "show_freshness_detections(3).show()"
   ]
  },
  {
   "cell_type": "code",
   "execution_count": null,
   "metadata": {},
   "outputs": [],
   "source": [
    "show_freshness_detections(7).show()"
   ]
  },
  {
   "cell_type": "code",
   "execution_count": null,
   "metadata": {},
   "outputs": [],
   "source": [
    "show_query_plot('../queries/freshness/days-since-last-update.sql', 'date_added', 'days_since_last_update').show()"
   ]
  },
  {
   "cell_type": "code",
   "execution_count": null,
   "metadata": {},
   "outputs": [],
   "source": [
    "show_plot_with_detections(\n",
    "    '../queries/freshness/freshness-detector.sql',\n",
    "    '../queries/freshness/rows-added.sql',\n",
    "    'date_added',\n",
    "    'rows_added'\n",
    ").show()"
   ]
  },
  {
   "cell_type": "code",
   "execution_count": null,
   "metadata": {},
   "outputs": [],
   "source": [
    "show_query_plot('../queries/distribution/null-rates.sql', 'date_added', 'distance_null_rate').show()"
   ]
  },
  {
   "cell_type": "code",
   "execution_count": null,
   "metadata": {},
   "outputs": [],
   "source": [
    "show_query_plot('../queries/distribution/null-rates.sql', 'date_added', 'g_null_rate').show()"
   ]
  },
  {
   "cell_type": "code",
   "execution_count": null,
   "metadata": {},
   "outputs": [],
   "source": [
    "show_query_plot('../queries/distribution/null-rates.sql', 'date_added', 'orbital_period_null_rate').show()"
   ]
  },
  {
   "cell_type": "code",
   "execution_count": null,
   "metadata": {},
   "outputs": [],
   "source": [
    "show_query_plot('../queries/distribution/null-rates.sql', 'date_added', 'avg_temp_null_rate').show()"
   ]
  },
  {
   "cell_type": "code",
   "execution_count": null,
   "metadata": {},
   "outputs": [],
   "source": [
    "show_plot_with_detections(\n",
    "    '../queries/distribution/naive-dist-detector.sql',\n",
    "    '../queries/distribution/null-rates.sql',\n",
    "    'date_added',\n",
    "    'avg_temp_null_rate'\n",
    ").show()"
   ]
  },
  {
   "cell_type": "code",
   "execution_count": null,
   "metadata": {},
   "outputs": [],
   "source": [
    "show_plot_with_detections(\n",
    "    '../queries/distribution/dist-query-only-start-dates.sql',\n",
    "    '../queries/distribution/null-rates.sql',\n",
    "    'date_added',\n",
    "    'avg_temp_null_rate'\n",
    ").show()"
   ]
  },
  {
   "cell_type": "code",
   "execution_count": null,
   "metadata": {},
   "outputs": [],
   "source": []
  }
 ],
 "metadata": {
  "kernelspec": {
   "display_name": "Python 3",
   "language": "python",
   "name": "python3"
  },
  "language_info": {
   "codemirror_mode": {
    "name": "ipython",
    "version": 3
   },
   "file_extension": ".py",
   "mimetype": "text/x-python",
   "name": "python",
   "nbconvert_exporter": "python",
   "pygments_lexer": "ipython3",
   "version": "3.7.5"
  }
 },
 "nbformat": 4,
 "nbformat_minor": 4
}
