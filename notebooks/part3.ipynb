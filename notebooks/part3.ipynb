{
 "cells": [
  {
   "cell_type": "markdown",
   "id": "mighty-familiar",
   "metadata": {},
   "source": [
    "# Setup"
   ]
  },
  {
   "cell_type": "code",
   "execution_count": null,
   "id": "academic-transition",
   "metadata": {},
   "outputs": [],
   "source": [
    "import pandas as pd\n",
    "import plotly.express as px\n",
    "import plotly.graph_objects as go\n",
    "import re\n",
    "import numpy as np\n",
    "from datetime import datetime, date, timedelta"
   ]
  },
  {
   "cell_type": "code",
   "execution_count": null,
   "id": "distant-converter",
   "metadata": {},
   "outputs": [],
   "source": [
    "import sqlite3\n",
    "\n",
    "conn = sqlite3.connect(\"../EXOPLANETS.db\")\n",
    "c = conn.cursor()"
   ]
  },
  {
   "cell_type": "markdown",
   "id": "introductory-pontiac",
   "metadata": {},
   "source": [
    "# Freshness Detector"
   ]
  },
  {
   "cell_type": "code",
   "execution_count": null,
   "id": "sunrise-decade",
   "metadata": {},
   "outputs": [],
   "source": [
    "def show_query_plot(filename, x, y):\n",
    "    with open(filename, 'r') as sql_file:\n",
    "        sql = sql_file.read()\n",
    "\n",
    "    # '.headers on' works for command line execution but causes errors in the python environment\n",
    "    data = pd.read_sql_query(re.sub('.headers on', '', sql), conn)\n",
    "    data = data.rename(columns={clmn: clmn.lower() for clmn in data.columns})\n",
    "    return px.bar(data, x=x, y=y)"
   ]
  },
  {
   "cell_type": "code",
   "execution_count": null,
   "id": "rocky-mediterranean",
   "metadata": {},
   "outputs": [],
   "source": [
    "show_query_plot('../queries/freshness/rows-added.sql', 'date_added', 'rows_added').show()"
   ]
  },
  {
   "cell_type": "code",
   "execution_count": null,
   "id": "wired-charger",
   "metadata": {},
   "outputs": [],
   "source": [
    "def show_plot_with_detections(detections_file, data_file, x, y):\n",
    "    fig = show_query_plot(data_file, x, y)\n",
    "\n",
    "    with open(detections_file, 'r') as sql_file:\n",
    "        sql = sql_file.read()\n",
    "    detections = pd.read_sql_query(re.sub('.headers on', '', sql), conn)\n",
    "    detections = detections.rename(columns={clmn: clmn.lower() for clmn in detections.columns})\n",
    "    for _, row in detections.iterrows():\n",
    "        fig.add_vline(x=row['date_added'], line_color='red')\n",
    "    \n",
    "    return fig"
   ]
  },
  {
   "cell_type": "code",
   "execution_count": null,
   "id": "needed-alarm",
   "metadata": {},
   "outputs": [],
   "source": [
    "FRESHNESS_DETECTOR_QUERY = \"\"\"\n",
    "WITH UPDATES AS(\n",
    "  SELECT\n",
    "    DATE_ADDED,\n",
    "    COUNT(*) AS ROWS_ADDED\n",
    "  FROM\n",
    "    EXOPLANETS\n",
    "  GROUP BY\n",
    "    DATE_ADDED\n",
    "),\n",
    "\n",
    "NUM_DAYS_UPDATES AS (\n",
    "  SELECT\n",
    "    DATE_ADDED,\n",
    "    JULIANDAY(DATE_ADDED) - JULIANDAY(LAG(DATE_ADDED)\n",
    "      OVER(\n",
    "        ORDER BY DATE_ADDED\n",
    "      )\n",
    "    ) AS DAYS_SINCE_LAST_UPDATE\n",
    "  FROM\n",
    "    UPDATES\n",
    ")\n",
    "\n",
    "SELECT\n",
    "  *\n",
    "FROM\n",
    "  NUM_DAYS_UPDATES\n",
    "WHERE\n",
    "  DAYS_SINCE_LAST_UPDATE > {threshold_days};\n",
    "\"\"\""
   ]
  },
  {
   "cell_type": "code",
   "execution_count": null,
   "id": "massive-crazy",
   "metadata": {},
   "outputs": [],
   "source": [
    "def get_freshness_detections(threshold):\n",
    "    fig = show_query_plot('../queries/freshness/rows-added.sql', 'date_added', 'rows_added')\n",
    "\n",
    "    detections = pd.read_sql_query(FRESHNESS_DETECTOR_QUERY.format(threshold_days=threshold), conn)\n",
    "    detections = detections.rename(columns={clmn: clmn.lower() for clmn in detections.columns})\n",
    "    for _, row in detections.iterrows():\n",
    "        fig.add_vline(x=row['date_added'], line_color='red')\n",
    "    \n",
    "    return fig, detections"
   ]
  },
  {
   "cell_type": "code",
   "execution_count": null,
   "id": "retained-lender",
   "metadata": {},
   "outputs": [],
   "source": [
    "VALID_OUTAGE_DATES = set([\n",
    "    \"2020-02-08\",\n",
    "    \"2020-05-14\",\n",
    "    \"2020-06-17\",\n",
    "    \"2020-06-30\"\n",
    "])"
   ]
  },
  {
   "cell_type": "markdown",
   "id": "norman-cabinet",
   "metadata": {},
   "source": [
    "# Calculate Accuracy for Given `THRESHOLD_DAYS`"
   ]
  },
  {
   "cell_type": "code",
   "execution_count": null,
   "id": "preceding-jones",
   "metadata": {},
   "outputs": [],
   "source": [
    "THRESHOLD_DAYS = 3"
   ]
  },
  {
   "cell_type": "code",
   "execution_count": null,
   "id": "choice-greene",
   "metadata": {},
   "outputs": [],
   "source": [
    "fig, detections = get_freshness_detections(THRESHOLD_DAYS)\n",
    "fig.show()"
   ]
  },
  {
   "cell_type": "code",
   "execution_count": null,
   "id": "persistent-north",
   "metadata": {},
   "outputs": [],
   "source": [
    "TP = len(set(detections[\"date_added\"]).intersection(VALID_OUTAGE_DATES))\n",
    "FP = len(set(detections[\"date_added\"]).difference(VALID_OUTAGE_DATES))\n",
    "FN = len(VALID_OUTAGE_DATES.difference(set(detections[\"date_added\"])))"
   ]
  },
  {
   "cell_type": "code",
   "execution_count": null,
   "id": "superb-legislature",
   "metadata": {},
   "outputs": [],
   "source": [
    "print(\"Precision: {}\".format(TP / (TP + FP)))\n",
    "print(\"Recall:    {}\".format(TP / (TP + FN)))\n",
    "print(\"F_1 score: {}\".format(TP / (TP + 0.5*(FP + FN))))\n",
    "print(\"\\nTry me again with a different threshold setting!\")"
   ]
  },
  {
   "cell_type": "markdown",
   "id": "greater-spokesman",
   "metadata": {},
   "source": [
    "# Plot Accuracies as a Function of `THRESHOLD_DAYS`"
   ]
  },
  {
   "cell_type": "code",
   "execution_count": null,
   "id": "religious-times",
   "metadata": {},
   "outputs": [],
   "source": [
    "def F_score(beta, precision, recall):\n",
    "    return (1 + beta**2) * ((precision * recall) / ((beta**2 * precision) + recall))"
   ]
  },
  {
   "cell_type": "code",
   "execution_count": null,
   "id": "sharing-sterling",
   "metadata": {},
   "outputs": [],
   "source": [
    "precisions, recalls, f1s, f0pt5s, f2s = [], [], [], [], []\n",
    "for t_days in range(8):\n",
    "    _, detections = get_freshness_detections(t_days)\n",
    "    TP = len(set(detections[\"date_added\"]).intersection(VALID_OUTAGE_DATES))\n",
    "    FP = len(set(detections[\"date_added\"]).difference(VALID_OUTAGE_DATES))\n",
    "    FN = len(VALID_OUTAGE_DATES.difference(set(detections[\"date_added\"])))\n",
    "    precision = 0 if TP + FP == 0 else TP / (TP + FP)\n",
    "    recall = TP / (TP + FN)\n",
    "    f1 = F_score(1, precision, recall)\n",
    "    f0pt5 = F_score(0.5, precision, recall)\n",
    "    f2 = F_score(2, precision, recall)\n",
    "    \n",
    "    precisions.append(precision)\n",
    "    recalls.append(recall)\n",
    "    f1s.append(f1)\n",
    "    f0pt5s.append(f0pt5)\n",
    "    f2s.append(f2)"
   ]
  },
  {
   "cell_type": "code",
   "execution_count": null,
   "id": "developed-timer",
   "metadata": {},
   "outputs": [],
   "source": [
    "fig = go.Figure()\n",
    "fig.add_trace(go.Scatter(x=np.arange(8), y=precisions, name=\"Precision\"))\n",
    "fig.add_trace(go.Scatter(x=np.arange(8), y=recalls, name=\"Recall\"))\n",
    "fig.add_trace(go.Scatter(x=np.arange(8), y=f1s, name=\"F_1-Score\"))\n",
    "\n",
    "fig.update_layout(\n",
    "    title=\"Model Accuracy with Different Parameters\",\n",
    "    xaxis_title=\"THRESHOLD_DAYS\",\n",
    "    yaxis_title=\"Accuracy\"\n",
    ")\n",
    "\n",
    "\n",
    "fig.show()"
   ]
  },
  {
   "cell_type": "code",
   "execution_count": null,
   "id": "cross-aurora",
   "metadata": {},
   "outputs": [],
   "source": [
    "fig = go.Figure()\n",
    "fig.add_trace(go.Scatter(x=np.arange(8), y=f0pt5s, name=\"F_0.5-Score\"))\n",
    "fig.add_trace(go.Scatter(x=np.arange(8), y=f1s, name=\"F_1-Score\"))\n",
    "fig.add_trace(go.Scatter(x=np.arange(8), y=f2s, name=\"F_2-Score\"))\n",
    "\n",
    "fig.update_layout(\n",
    "    title=\"F-Scores with Different Parameters\",\n",
    "    xaxis_title=\"THRESHOLD_DAYS\",\n",
    "    yaxis_title=\"Accuracy\"\n",
    ")\n",
    "\n",
    "\n",
    "fig.show()"
   ]
  },
  {
   "cell_type": "code",
   "execution_count": null,
   "id": "composed-contact",
   "metadata": {},
   "outputs": [],
   "source": []
  }
 ],
 "metadata": {
  "kernelspec": {
   "display_name": "Python 3",
   "language": "python",
   "name": "python3"
  },
  "language_info": {
   "codemirror_mode": {
    "name": "ipython",
    "version": 3
   },
   "file_extension": ".py",
   "mimetype": "text/x-python",
   "name": "python",
   "nbconvert_exporter": "python",
   "pygments_lexer": "ipython3",
   "version": "3.7.5"
  }
 },
 "nbformat": 4,
 "nbformat_minor": 5
}
