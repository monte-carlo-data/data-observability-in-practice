{
 "cells": [
  {
   "cell_type": "code",
   "execution_count": null,
   "id": "delayed-limit",
   "metadata": {
    "scrolled": true
   },
   "outputs": [],
   "source": [
    "import pandas as pd\n",
    "import plotly.express as px\n",
    "import re\n",
    "from datetime import datetime, date, timedelta"
   ]
  },
  {
   "cell_type": "code",
   "execution_count": null,
   "id": "guided-isaac",
   "metadata": {},
   "outputs": [],
   "source": [
    "import sqlite3\n",
    "\n",
    "conn = sqlite3.connect(\"../EXOPLANETS.db\")\n",
    "c = conn.cursor()"
   ]
  },
  {
   "cell_type": "code",
   "execution_count": null,
   "id": "sunrise-decade",
   "metadata": {},
   "outputs": [],
   "source": [
    "def show_query_plot(filename, x, y):\n",
    "    with open(filename, 'r') as sql_file:\n",
    "        sql = sql_file.read()\n",
    "\n",
    "    # '.headers on' works for command line execution but causes errors in the python environment\n",
    "    data = pd.read_sql_query(re.sub('.headers on', '', sql), conn)\n",
    "    data = data.rename(columns={clmn: clmn.lower() for clmn in data.columns})\n",
    "    return px.bar(data, x=x, y=y)"
   ]
  },
  {
   "cell_type": "code",
   "execution_count": null,
   "id": "rocky-mediterranean",
   "metadata": {},
   "outputs": [],
   "source": [
    "show_query_plot('../queries/lineage/avg-habitability.sql', 'date_added', 'avg_habitability').show()"
   ]
  },
  {
   "cell_type": "code",
   "execution_count": null,
   "id": "prompt-publication",
   "metadata": {},
   "outputs": [],
   "source": [
    "show_query_plot('../queries/lineage/habitability-null-rate.sql', 'date_added', 'habitability_null_rate').show()"
   ]
  },
  {
   "cell_type": "code",
   "execution_count": null,
   "id": "commercial-chambers",
   "metadata": {},
   "outputs": [],
   "source": [
    "show_query_plot('../queries/lineage/habitability-zero-rate.sql', 'date_added', 'habitability_zero_rate').show()"
   ]
  },
  {
   "cell_type": "code",
   "execution_count": null,
   "id": "dominant-austin",
   "metadata": {},
   "outputs": [],
   "source": []
  }
 ],
 "metadata": {
  "kernelspec": {
   "display_name": "Python 3",
   "language": "python",
   "name": "python3"
  },
  "language_info": {
   "codemirror_mode": {
    "name": "ipython",
    "version": 3
   },
   "file_extension": ".py",
   "mimetype": "text/x-python",
   "name": "python",
   "nbconvert_exporter": "python",
   "pygments_lexer": "ipython3",
   "version": "3.7.5"
  }
 },
 "nbformat": 4,
 "nbformat_minor": 5
}
